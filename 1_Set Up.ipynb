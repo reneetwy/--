{
 "cells": [
  {
   "cell_type": "markdown",
   "metadata": {},
   "source": [
    "## 💎 Diamonds for This Class \n",
    "\n",
    "- print()\n",
    "- variable\n",
    "- input()\n",
    "- data type\n",
    "- if statement\n",
    "- function\n",
    "- parameter & arguments\n",
    "- how to make comments & why\n"
   ]
  },
  {
   "cell_type": "markdown",
   "metadata": {},
   "source": [
    "## Task 0 Set Up\n",
    "\n",
    "- Register on codecademy: https://www.codecademy.com/learn\n",
    "- Install code editor (VS code):https://code.visualstudio.com/ "
   ]
  },
  {
   "cell_type": "markdown",
   "metadata": {},
   "source": [
    "## Task 1 ⏰\n",
    "\n",
    "- Import a package called **datetime**.\n",
    "- Assign the current time to a variable called **time**. 🗝Hint: time = datetime.datetime.now()    \n",
    "- Print time.\n",
    "\n",
    "🤔Bonus: How to restrict time format as \"hour:minute:second\"? \n",
    "\n",
    "💎print(), variable"
   ]
  },
  {
   "cell_type": "code",
   "execution_count": null,
   "metadata": {},
   "outputs": [],
   "source": [
    "\n",
    "\n"
   ]
  },
  {
   "cell_type": "markdown",
   "metadata": {},
   "source": [
    "## Task 2 🤠\n",
    "- Use **'input()'** to ask the user's **first name**. Store user's input into a variable **first_name**.\n",
    "- Use **'input()'** to ask the user's **last name**.Store user's input into a variable **last_name**.\n",
    "- Print \"Hello\"and user's first name and last name.\n",
    "\n",
    "🤔Bonus: How to check the data type of the variable \"first_name\"? Print the data type of the variable.\n",
    "\n",
    "💎input(), string(data type), variable, print()"
   ]
  },
  {
   "cell_type": "code",
   "execution_count": null,
   "metadata": {},
   "outputs": [],
   "source": [
    "\n",
    "\n"
   ]
  },
  {
   "cell_type": "markdown",
   "metadata": {},
   "source": [
    "## Task 3 🎩\n",
    "\n",
    "- Create a function called \"Greetings\" to translate hello in 5️⃣different languages.\n",
    "\n",
    "Example:\n",
    "\n",
    "  If you *input* target language as \"Chinese!\", the function will return \"你好\".\n",
    "\n",
    "- Be careful of the indentation.\n",
    "🔑 Hint:\n",
    "- Start getting user's input to your question. Example:\n",
    "```\n",
    "    language = input(\"How do you say 'Hello' in \")\n",
    "```\n",
    "\n",
    "- Use if statement\n",
    "- Requirement:\n",
    "Fill your translator with at least 5 options of different languages.\n",
    "​\n",
    "\n",
    "\n",
    "🤔Bonus: How do you make sure your program can read all possible input of 'Chinese' i.e.'chinese','cn', etc.? \n",
    "\n",
    "💎function, parameter, argument, if statement, or operator"
   ]
  },
  {
   "cell_type": "code",
   "execution_count": null,
   "metadata": {},
   "outputs": [],
   "source": [
    "\n",
    "\n"
   ]
  },
  {
   "cell_type": "markdown",
   "metadata": {},
   "source": [
    "## Task 4 🕵🏻‍♂️\n",
    "\n",
    "- Research online to find out the difference between **parameter** and **argument**. \n",
    "- Use comments # to note down your research result in 2 lines\n",
    "\n",
    "💎How to comment in Python, paramter, argument\n",
    "\n"
   ]
  },
  {
   "cell_type": "code",
   "execution_count": null,
   "metadata": {},
   "outputs": [],
   "source": [
    "\n",
    "\n",
    "\n"
   ]
  }
 ],
 "metadata": {
  "kernelspec": {
   "display_name": "Python 3",
   "language": "python",
   "name": "python3"
  },
  "language_info": {
   "codemirror_mode": {
    "name": "ipython",
    "version": 3
   },
   "file_extension": ".py",
   "mimetype": "text/x-python",
   "name": "python",
   "nbconvert_exporter": "python",
   "pygments_lexer": "ipython3",
   "version": "3.8.5"
  }
 },
 "nbformat": 4,
 "nbformat_minor": 4
}
